{
 "cells": [
  {
   "cell_type": "code",
   "execution_count": 13,
   "metadata": {},
   "outputs": [],
   "source": [
    "import math\n",
    "import numpy as np\n",
    "\n",
    "def gaussNodosPesos(m):\n",
    "\tif m==1:\n",
    "\t\tx=np.array([0])\n",
    "\t\tW=np.array([2])\n",
    "\t\treturn x,W\n",
    "\telif m==2:\n",
    "\t\tx=np.array([np.sqrt(1/3),-np.sqrt(1/3)])\n",
    "\t\tW=np.array([1,1])\n",
    "\t\treturn x,W\n",
    "\telif m==3:\n",
    "\t\tx=np.array([0,np.sqrt(3/5),-np.sqrt(3/5)])\n",
    "\t\tW=np.array([8/9, 5/9, 5/9])\n",
    "\t\treturn x,W\n",
    "\telif m==4:\n",
    "\t\tx=np.array([np.sqrt((3-2*np.sqrt(6/5))/7), -np.sqrt((3-2*np.sqrt(6/5))/7), np.sqrt((3+2*np.sqrt(6/5))/7),-np.sqrt((3+2*np.sqrt(6/5))/7)])\n",
    "\t\tW=np.array([(18+np.sqrt(30))/36, (18+np.sqrt(30))/36, (18-np.sqrt(30))/36,(18-np.sqrt(30))/36])\n",
    "\t\treturn x,W\n",
    "\telif m==5:\n",
    "\t\tx=np.array([0,(1/3)*np.sqrt(5-2*np.sqrt(10/7)), -(1/3)*np.sqrt(5-2*np.sqrt(10/7)), (1/3)*np.sqrt(5+2*np.sqrt(10/7)),-(1/3)*np.sqrt(5+2*np.sqrt(10/7))])\n",
    "\t\tW=np.array([128/225,(322+13*np.sqrt(70))/900, (322+13*np.sqrt(70))/900, (322-13*np.sqrt(70))/900,(322-13*np.sqrt(70))/900])\n",
    "\t\treturn x,W\n",
    "\telse:\n",
    "\t\tprint('no se tienen la lista de nodos y pesos para el valor {}'.format(m))\n",
    "\t\treturn\n",
    "\n",
    "def gaussQuad(f,a,b,m):\n",
    "\tc1 =(b + a)/2.0\n",
    "\tc2 = (b - a)/2.0\n",
    "\tx,A = gaussNodosPesos(m)\n",
    "\tsum = 0.0\n",
    "\tprint( \"i\\t alpha*xi+beta\")\n",
    "\tfor i in range(len(x)):\n",
    "\t\tprint( f\"{i+1}\\t{round(c1 + c2*x[i],5)}\")\n",
    "\t\tsum = sum + round(A[i],3)*f(round(c1 + c2*x[i],5))\n",
    "\treturn c2*sum"
   ]
  },
  {
   "cell_type": "code",
   "execution_count": 15,
   "metadata": {},
   "outputs": [],
   "source": [
    "#def f(x): return (1/np.sqrt(np.pi*2))*np.exp(-.5*x**2)\n",
    "def f(x): return x*np.log(x)\n",
    "#def f(x): return np.exp(np.cos(x))"
   ]
  },
  {
   "cell_type": "code",
   "execution_count": 16,
   "metadata": {},
   "outputs": [
    {
     "name": "stdout",
     "output_type": "stream",
     "text": [
      "alpha=2.0\n",
      "betha=5.0\n",
      "Nodos xi: [ 0.      0.7746 -0.7746]\n",
      "Pesos wi: [0.88889 0.55556 0.55556]\n",
      "i\t alpha*xi+beta\n",
      "1\t5.0\n",
      "2\t6.54919\n",
      "3\t3.45081\n"
     ]
    },
    {
     "data": {
      "text/plain": [
       "32.74749629522557"
      ]
     },
     "execution_count": 16,
     "metadata": {},
     "output_type": "execute_result"
    }
   ],
   "source": [
    "a=3\n",
    "b=7\n",
    "n=3\n",
    "x,A=gaussNodosPesos(n)\n",
    "\n",
    "\n",
    "print('alpha={}'.format((b - a)/2.0))\n",
    "print('betha={}'.format((b + a)/2.0))\n",
    "print('Nodos xi: {}'.format(np.round(x,5)))\n",
    "print('Pesos wi: {}'.format(np.round(A,5)))\n",
    "\n",
    "gaussQuad(f,a,b, n)"
   ]
  },
  {
   "cell_type": "code",
   "execution_count": null,
   "metadata": {},
   "outputs": [],
   "source": []
  }
 ],
 "metadata": {
  "kernelspec": {
   "display_name": "Python 3",
   "language": "python",
   "name": "python3"
  },
  "language_info": {
   "codemirror_mode": {
    "name": "ipython",
    "version": 3
   },
   "file_extension": ".py",
   "mimetype": "text/x-python",
   "name": "python",
   "nbconvert_exporter": "python",
   "pygments_lexer": "ipython3",
   "version": "3.8.6"
  }
 },
 "nbformat": 4,
 "nbformat_minor": 4
}
