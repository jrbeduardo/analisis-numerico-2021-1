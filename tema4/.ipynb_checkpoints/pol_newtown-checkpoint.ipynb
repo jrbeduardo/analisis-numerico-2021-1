{
 "cells": [
  {
   "cell_type": "code",
   "execution_count": 1,
   "metadata": {},
   "outputs": [],
   "source": [
    "import numpy as np\n",
    "import sympy as sp\n",
    "\n",
    "x=sp.Symbol('x')\n",
    "\n",
    "\n",
    "def difp(yData, iteracion=1, delta0=[]):\n",
    "    if len(yData)>1:\n",
    "        z=yData[:len(yData)-1]\n",
    "        iteracion+=1\n",
    "        delta=yData[1:len(yData)]-z\n",
    "        delta0.append(round(delta[0],5))\n",
    "        print(delta)\n",
    "        difp(delta, iteracion, delta0)\n",
    "    return delta0\n",
    "\n",
    "def factorial(k,n):\n",
    "    product=1\n",
    "    fact=1\n",
    "    for i in range(n):\n",
    "        product=(k-i)*product\n",
    "        fact=(i+1)*fact\n",
    "    return product/fact    \n",
    "\n",
    "def polinomio_newton_numerico(xData, yData, t, h):\n",
    "    a=np.array(difp(yData,delta0=[]))\n",
    "    k=(t-xData[0])/h\n",
    "    resultado=yData[0]\n",
    "    for i in range(0,len(a)):\n",
    "        resultado=factorial(k,i+1)*a[i]+resultado\n",
    "    return resultado\n",
    "\n",
    "def polinomio_newton_simbolico(xData, yData, h):\n",
    "    a=np.array(difp(yData, delta0=[]))\n",
    "    k=(x-xData[0])/h\n",
    "    resultado=yData[0]\n",
    "    for i in range(len(a)):\n",
    "        resultado=factorial(k,i+1)*a[i]+resultado\n",
    "    return sp.expand(resultado)"
   ]
  },
  {
   "cell_type": "code",
   "execution_count": 7,
   "metadata": {},
   "outputs": [],
   "source": [
    "#x=[0.2,0.4,0.6,0.8]\n",
    "#y=[ 0.832, .867, 1, 1.3]\n",
    "#xData = np.array(x)\n",
    "#xData=np.arange(0.6,1.2,0.2)\n",
    "#yData = np.array(y)\n",
    "xData = np.array([1,1.5,2])\n",
    "yData = np.array([1.81636,0.58773, -0.56162])"
   ]
  },
  {
   "cell_type": "code",
   "execution_count": 8,
   "metadata": {},
   "outputs": [
    {
     "name": "stdout",
     "output_type": "stream",
     "text": [
      "[-1.22863 -1.14935]\n",
      "[0.07928]\n"
     ]
    }
   ],
   "source": [
    "polinomio_newton=polinomio_newton_simbolico(xData,yData, 0.5)\n",
    "derivada_1=sp.diff(polinomio_newton,x)\n",
    "derivada_2=sp.diff(derivada_1,x)\n",
    "#tabla de diferencias delta0, delta0^2,... "
   ]
  },
  {
   "cell_type": "code",
   "execution_count": 4,
   "metadata": {},
   "outputs": [
    {
     "data": {
      "text/latex": [
       "$\\displaystyle 0.15856 x^{2} - 2.85366 x + 4.51146$"
      ],
      "text/plain": [
       "0.15856*x**2 - 2.85366*x + 4.51146"
      ]
     },
     "execution_count": 4,
     "metadata": {},
     "output_type": "execute_result"
    }
   ],
   "source": [
    "polinomio_newton"
   ]
  },
  {
   "cell_type": "code",
   "execution_count": 5,
   "metadata": {},
   "outputs": [
    {
     "data": {
      "text/latex": [
       "$\\displaystyle 0.31712 x - 2.85366$"
      ],
      "text/plain": [
       "0.31712*x - 2.85366"
      ]
     },
     "execution_count": 5,
     "metadata": {},
     "output_type": "execute_result"
    }
   ],
   "source": [
    "derivada_1"
   ]
  },
  {
   "cell_type": "code",
   "execution_count": 6,
   "metadata": {},
   "outputs": [
    {
     "data": {
      "text/latex": [
       "$\\displaystyle 0.31712$"
      ],
      "text/plain": [
       "0.317120000000000"
      ]
     },
     "execution_count": 6,
     "metadata": {},
     "output_type": "execute_result"
    }
   ],
   "source": [
    "derivada_2"
   ]
  },
  {
   "cell_type": "code",
   "execution_count": null,
   "metadata": {},
   "outputs": [],
   "source": []
  },
  {
   "cell_type": "code",
   "execution_count": null,
   "metadata": {},
   "outputs": [],
   "source": []
  }
 ],
 "metadata": {
  "kernelspec": {
   "display_name": "Python 3",
   "language": "python",
   "name": "python3"
  },
  "language_info": {
   "codemirror_mode": {
    "name": "ipython",
    "version": 3
   },
   "file_extension": ".py",
   "mimetype": "text/x-python",
   "name": "python",
   "nbconvert_exporter": "python",
   "pygments_lexer": "ipython3",
   "version": "3.8.6"
  }
 },
 "nbformat": 4,
 "nbformat_minor": 4
}
