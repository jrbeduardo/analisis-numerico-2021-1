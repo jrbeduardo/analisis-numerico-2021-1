{
 "cells": [
  {
   "cell_type": "code",
   "execution_count": 1,
   "metadata": {},
   "outputs": [],
   "source": [
    "import numpy as np\n",
    "\n",
    "def simpson38(f, x0, xn, n):\n",
    "\txData=np.linspace(x0, xn, num=n+1)\n",
    "\th=(xn-x0)/n\n",
    "\tyData=np.round(f(xData),5)\n",
    "\tif n%3!=0:\n",
    "\t\tprint('no se puede aplicar este metodo pues n no es multiplo de 3')\n",
    "\t\treturn \n",
    "\telse:\n",
    "\t\timprimir_datos(xData, yData)\n",
    "\t\tsuma_mult3=0\n",
    "\t\tsuma_restantes=0\n",
    "\t\tfor i in range(1,n):\n",
    "\t\t\tif i%3==0:\n",
    "\t\t\t\tsuma_mult3=suma_mult3+yData[i]\n",
    "\t\t\telse:\n",
    "\t\t\t\tsuma_restantes=suma_restantes+yData[i]\n",
    "\t\treturn (3*h/8)*(yData[0]+yData[n]+2*suma_mult3+3*suma_restantes)\n",
    "\n",
    "\n",
    "def imprimir_datos(xData, yData):\n",
    "\n",
    " \t\t\n",
    "\t\tprint('{}\t\t{}\t\t{}'.format('i', 'xi', 'yi'))\n",
    "\t\tfor i in range(len(xData)):\n",
    "\t\t\tprint('{}\t\t{}\t\t{}'.format(i, xData[i], yData[i]))"
   ]
  },
  {
   "cell_type": "code",
   "execution_count": 4,
   "metadata": {},
   "outputs": [],
   "source": [
    "#def f(x): return (1/np.sqrt(np.pi*2))*np.exp(-0.5*x**2)\n",
    "def f(x): return x*np.log(x)"
   ]
  },
  {
   "cell_type": "code",
   "execution_count": 5,
   "metadata": {},
   "outputs": [
    {
     "name": "stdout",
     "output_type": "stream",
     "text": [
      "i\t\txi\t\tyi\n",
      "0\t\t1.0\t\t0.0\n",
      "1\t\t2.0\t\t1.38629\n",
      "2\t\t3.0\t\t3.29584\n",
      "3\t\t4.0\t\t5.54518\n",
      "4\t\t5.0\t\t8.04719\n",
      "5\t\t6.0\t\t10.75056\n",
      "6\t\t7.0\t\t13.62137\n"
     ]
    },
    {
     "data": {
      "text/plain": [
       "35.68176375"
      ]
     },
     "execution_count": 5,
     "metadata": {},
     "output_type": "execute_result"
    }
   ],
   "source": [
    "simpson38(f,1,7,6)"
   ]
  },
  {
   "cell_type": "code",
   "execution_count": null,
   "metadata": {},
   "outputs": [],
   "source": []
  }
 ],
 "metadata": {
  "kernelspec": {
   "display_name": "Python 3",
   "language": "python",
   "name": "python3"
  },
  "language_info": {
   "codemirror_mode": {
    "name": "ipython",
    "version": 3
   },
   "file_extension": ".py",
   "mimetype": "text/x-python",
   "name": "python",
   "nbconvert_exporter": "python",
   "pygments_lexer": "ipython3",
   "version": "3.8.6"
  }
 },
 "nbformat": 4,
 "nbformat_minor": 4
}
