{
 "cells": [
  {
   "cell_type": "code",
   "execution_count": 1,
   "metadata": {},
   "outputs": [],
   "source": [
    "import numpy as np\n",
    "\n",
    "def trapecial(f, x0, xn, n):\n",
    "\txData=np.linspace(x0, xn, num=n+1)\n",
    "\th=(xn-x0)/n\n",
    "\tyData=np.round(f(xData),5)\n",
    "\tif n==0:\n",
    "\t\tprint('no se puede aplicar este metodo pues n=0')\n",
    "\t\treturn \n",
    "\telse:\n",
    "\t\timprimir_datos(xData, yData)\t\t\n",
    "\t\treturn (h/2)*(yData[0]+yData[n]+2*np.sum(yData[1:n]))\n",
    "\n",
    "def imprimir_datos(xData, yData):\n",
    "\n",
    " \t\t\n",
    "\t\tprint('{}\t\t{}\t\t{}'.format('i', 'xi', 'yi'))\n",
    "\t\tfor i in range(len(xData)):\n",
    "\t\t\tprint('{}\t\t{}\t\t{}'.format(i, xData[i], yData[i]))\n"
   ]
  },
  {
   "cell_type": "code",
   "execution_count": 2,
   "metadata": {},
   "outputs": [],
   "source": [
    "def f(x): return (1/np.sqrt(np.pi*2))*np.exp(-0.5*x**2)"
   ]
  },
  {
   "cell_type": "code",
   "execution_count": 5,
   "metadata": {},
   "outputs": [
    {
     "name": "stdout",
     "output_type": "stream",
     "text": [
      "i\t\txi\t\tyi\n",
      "0\t\t0.0\t\t0.39894\n",
      "1\t\t0.6\t\t0.33322\n",
      "2\t\t1.2\t\t0.19419\n"
     ]
    },
    {
     "data": {
      "text/plain": [
       "0.377871"
      ]
     },
     "execution_count": 5,
     "metadata": {},
     "output_type": "execute_result"
    }
   ],
   "source": [
    "trapecial(f,0,1.2,2)\n",
    "\n"
   ]
  },
  {
   "cell_type": "code",
   "execution_count": null,
   "metadata": {},
   "outputs": [],
   "source": []
  }
 ],
 "metadata": {
  "kernelspec": {
   "display_name": "Python 3",
   "language": "python",
   "name": "python3"
  },
  "language_info": {
   "codemirror_mode": {
    "name": "ipython",
    "version": 3
   },
   "file_extension": ".py",
   "mimetype": "text/x-python",
   "name": "python",
   "nbconvert_exporter": "python",
   "pygments_lexer": "ipython3",
   "version": "3.8.6"
  }
 },
 "nbformat": 4,
 "nbformat_minor": 4
}
