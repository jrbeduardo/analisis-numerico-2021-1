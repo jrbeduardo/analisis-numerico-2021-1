{
 "cells": [
  {
   "cell_type": "code",
   "execution_count": 1,
   "metadata": {},
   "outputs": [],
   "source": [
    "import sympy as sp\n",
    "import numpy as np\n",
    "x=sp.Symbol('x')\n",
    "sp.init_printing(use_latex=True)\n",
    "\n",
    "def interpolacion_lagrage_simb(xData, yData):\n",
    "    n=len(xData)\n",
    "    lj = []\n",
    "    for k in range(n):\n",
    "        lk =1\n",
    "        for s in range(n):\n",
    "            if s!=k:\n",
    "                lk=lk*(x-xData[s])/(xData[k]-xData[s])\n",
    "        lj.append(lk)\n",
    "    sum(yData*lj)\n",
    "    return sp.expand(sum(yData*lj))\n",
    "\n",
    "def interpolacion_lagrage_simb1(xData, yData):\n",
    "    n=len(xData)\n",
    "    lj = []\n",
    "    for k in range(n):\n",
    "        lk =1\n",
    "        for s in range(n):\n",
    "            if s!=k:\n",
    "                lk=lk*(x-xData[s])/(xData[k]-xData[s])\n",
    "        lj.append(lk)\n",
    "    return lj"
   ]
  },
  {
   "cell_type": "code",
   "execution_count": 31,
   "metadata": {},
   "outputs": [
    {
     "name": "stdout",
     "output_type": "stream",
     "text": [
      "0\t0.0\t4.19722\n",
      "1\t0.2\t4.2192\n",
      "2\t0.4\t4.24071\n",
      "3\t0.6\t4.26176\n",
      "4\t0.8\t4.28238\n",
      "5\t1.0\t4.30259\n",
      "6\t1.2\t4.32239\n"
     ]
    }
   ],
   "source": [
    "xData = np.array([0, 0.2, 0.4, 0.6, 0.8, 1, 1.2])\n",
    "#yData = np.array([1.81636,0.58773, -0.56162])\n",
    "#Usando una funcion\n",
    "\n",
    "def funtion(x): return np.log(x+9)+2\n",
    "yData=np.round(funtion(xData),5)\n",
    "\n",
    "\n",
    "for i in range(len(xData)): print(f\"{i}\\t{xData[i]}\\t{yData[i]}\")"
   ]
  },
  {
   "cell_type": "code",
   "execution_count": 22,
   "metadata": {},
   "outputs": [
    {
     "data": {
      "image/png": "[encoded data removed]",
      "text/latex": [
       "$\\displaystyle \\left[ - \\frac{\\left(\\frac{4}{3} - \\frac{x}{3}\\right) \\left(x - 6\\right)}{5}, \\  - \\frac{\\left(\\frac{x}{3} - \\frac{1}{3}\\right) \\left(x - 6\\right)}{2}, \\  \\frac{\\left(\\frac{x}{5} - \\frac{1}{5}\\right) \\left(x - 4\\right)}{2}\\right]$"
      ],
      "text/plain": [
       "⎡ ⎛4   x⎞            ⎛x   1⎞           ⎛x   1⎞        ⎤\n",
       "⎢-⎜─ - ─⎟⋅(x - 6)   -⎜─ - ─⎟⋅(x - 6)   ⎜─ - ─⎟⋅(x - 4)⎥\n",
       "⎢ ⎝3   3⎠            ⎝3   3⎠           ⎝5   5⎠        ⎥\n",
       "⎢─────────────────, ─────────────────, ───────────────⎥\n",
       "⎣        5                  2                 2       ⎦"
      ]
     },
     "execution_count": 22,
     "metadata": {},
     "output_type": "execute_result"
    }
   ],
   "source": [
    "interpolacion_lagrage_simb1(xData,yData)"
   ]
  },
  {
   "cell_type": "code",
   "execution_count": 29,
   "metadata": {},
   "outputs": [
    {
     "data": {
      "image/png": "[encoded data removed]",
      "text/latex": [
       "$\\displaystyle - 0.0031806666666665 x^{2} + 0.103356666666666 x + 4.202414$"
      ],
      "text/plain": [
       "                      2                                 \n",
       "- 0.0031806666666665⋅x  + 0.103356666666666⋅x + 4.202414"
      ]
     },
     "execution_count": 29,
     "metadata": {},
     "output_type": "execute_result"
    }
   ],
   "source": [
    "s=sum(yData*interpolacion_lagrage_simb1(xData,yData))\n",
    "\n",
    "sp.expand(s)"
   ]
  },
  {
   "cell_type": "code",
   "execution_count": 23,
   "metadata": {},
   "outputs": [
    {
     "data": {
      "image/png": "[encoded data removed]",
      "text/latex": [
       "$\\displaystyle 3$"
      ],
      "text/plain": [
       "3"
      ]
     },
     "execution_count": 23,
     "metadata": {},
     "output_type": "execute_result"
    }
   ],
   "source": [
    "lj=interpolacion_lagrage_simb1(xData, yData)\n",
    "len(lj)"
   ]
  },
  {
   "cell_type": "code",
   "execution_count": 24,
   "metadata": {},
   "outputs": [
    {
     "data": {
      "image/png": "[encoded data removed]",
      "text/latex": [
       "$\\displaystyle \\frac{x^{2}}{15} - \\frac{2 x}{3} + \\frac{8}{5}$"
      ],
      "text/plain": [
       " 2          \n",
       "x    2⋅x   8\n",
       "── - ─── + ─\n",
       "15    3    5"
      ]
     },
     "execution_count": 24,
     "metadata": {},
     "output_type": "execute_result"
    }
   ],
   "source": [
    "sp.expand(lj[0])"
   ]
  },
  {
   "cell_type": "code",
   "execution_count": 25,
   "metadata": {},
   "outputs": [
    {
     "data": {
      "image/png": "[encoded data removed]",
      "text/latex": [
       "$\\displaystyle - \\frac{x^{2}}{6} + \\frac{7 x}{6} - 1$"
      ],
      "text/plain": [
       "   2          \n",
       "  x    7⋅x    \n",
       "- ── + ─── - 1\n",
       "  6     6     "
      ]
     },
     "execution_count": 25,
     "metadata": {},
     "output_type": "execute_result"
    }
   ],
   "source": [
    "sp.expand(lj[1])"
   ]
  },
  {
   "cell_type": "code",
   "execution_count": 26,
   "metadata": {},
   "outputs": [
    {
     "data": {
      "image/png": "[encoded data removed]",
      "text/latex": [
       "$\\displaystyle \\frac{x^{2}}{10} - \\frac{x}{2} + \\frac{2}{5}$"
      ],
      "text/plain": [
       " 2        \n",
       "x    x   2\n",
       "── - ─ + ─\n",
       "10   2   5"
      ]
     },
     "execution_count": 26,
     "metadata": {},
     "output_type": "execute_result"
    }
   ],
   "source": [
    "sp.expand(lj[2])"
   ]
  },
  {
   "cell_type": "code",
   "execution_count": 20,
   "metadata": {},
   "outputs": [
    {
     "data": {
      "image/png": "[encoded data removed]",
      "text/latex": [
       "$\\displaystyle 4.63968066666667$"
      ],
      "text/plain": [
       "4.63968066666667"
      ]
     },
     "execution_count": 20,
     "metadata": {},
     "output_type": "execute_result"
    }
   ],
   "source": [
    "#Numerico\n",
    "interpolacion_lagrage_simb(xData,yData).subs(x, 5)"
   ]
  },
  {
   "cell_type": "code",
   "execution_count": 30,
   "metadata": {},
   "outputs": [
    {
     "data": {
      "image/png": "[encoded data removed]",
      "text/latex": [
       "$\\displaystyle 4.63968066666667$"
      ],
      "text/plain": [
       "4.63968066666667"
      ]
     },
     "execution_count": 30,
     "metadata": {},
     "output_type": "execute_result"
    }
   ],
   "source": [
    "s.subs(x, 5)"
   ]
  },
  {
   "cell_type": "code",
   "execution_count": null,
   "metadata": {},
   "outputs": [],
   "source": []
  }
 ],
 "metadata": {
  "kernelspec": {
   "display_name": "Python 3",
   "language": "python",
   "name": "python3"
  },
  "language_info": {
   "codemirror_mode": {
    "name": "ipython",
    "version": 3
   },
   "file_extension": ".py",
   "mimetype": "text/x-python",
   "name": "python",
   "nbconvert_exporter": "python",
   "pygments_lexer": "ipython3",
   "version": "3.8.6"
  }
 },
 "nbformat": 4,
 "nbformat_minor": 4
}
