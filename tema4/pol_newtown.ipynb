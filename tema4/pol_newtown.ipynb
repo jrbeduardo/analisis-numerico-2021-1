{
 "cells": [
  {
   "cell_type": "code",
   "execution_count": 1,
   "metadata": {},
   "outputs": [],
   "source": [
    "import numpy as np\n",
    "import sympy as sp\n",
    "\n",
    "x=sp.Symbol('x')\n",
    "\n",
    "\n",
    "def difp(yData, iteracion=1, delta0=[]):\n",
    "    if len(yData)>1:\n",
    "        z=yData[:len(yData)-1]\n",
    "        iteracion+=1\n",
    "        delta=yData[1:len(yData)]-z\n",
    "        delta0.append(round(delta[0],5))\n",
    "        print(delta)\n",
    "        difp(delta, iteracion, delta0)\n",
    "    return delta0\n",
    "\n",
    "def factorial(k,n):\n",
    "    product=1\n",
    "    fact=1\n",
    "    for i in range(n):\n",
    "        product=(k-i)*product\n",
    "        fact=(i+1)*fact\n",
    "    return product/fact    \n",
    "\n",
    "def polinomio_newton_numerico(xData, yData, t, h):\n",
    "    a=np.array(difp(yData,delta0=[]))\n",
    "    k=(t-xData[0])/h\n",
    "    resultado=yData[0]\n",
    "    for i in range(0,len(a)):\n",
    "        resultado=factorial(k,i+1)*a[i]+resultado\n",
    "    return resultado\n",
    "\n",
    "def polinomio_newton_simbolico(xData, yData, h):\n",
    "    a=np.array(difp(yData, delta0=[]))\n",
    "    k=(x-xData[0])/h\n",
    "    resultado=yData[0]\n",
    "    for i in range(len(a)):\n",
    "        resultado=factorial(k,i+1)*a[i]+resultado\n",
    "    return sp.expand(resultado)"
   ]
  },
  {
   "cell_type": "code",
   "execution_count": 33,
   "metadata": {},
   "outputs": [
    {
     "name": "stdout",
     "output_type": "stream",
     "text": [
      "0\t2\t4.3979\n",
      "1\t4\t4.56495\n",
      "2\t6\t4.70805\n"
     ]
    }
   ],
   "source": [
    "#x=[0.2,0.4,0.6,0.8]\n",
    "#y=[ 0.832, .867, 1, 1.3]\n",
    "#xData = np.array(x)\n",
    "#xData=np.arange(0.6,1.2,0.2)\n",
    "#yData = np.array(y)\n",
    "xData = np.array([2,4, 6])\n",
    "#Usando una funcion\n",
    "def funtion(x): return np.log(x+9)+2\n",
    "yData=np.round(funtion(xData),5)\n",
    "\n",
    "for i in range(len(xData)): print(f\"{i}\\t{xData[i]}\\t{yData[i]}\")\n"
   ]
  },
  {
   "cell_type": "code",
   "execution_count": 34,
   "metadata": {},
   "outputs": [
    {
     "name": "stdout",
     "output_type": "stream",
     "text": [
      "[0.16705 0.1431 ]\n",
      "[-0.02395]\n"
     ]
    }
   ],
   "source": [
    "polinomio_newton=polinomio_newton_simbolico(xData,yData, 2)\n",
    "derivada_1=sp.diff(polinomio_newton,x)\n",
    "derivada_2=sp.diff(derivada_1,x)\n",
    "#tabla de diferencias delta0, delta0^2,... "
   ]
  },
  {
   "cell_type": "code",
   "execution_count": 35,
   "metadata": {},
   "outputs": [
    {
     "data": {
      "text/latex": [
       "$\\displaystyle - 0.00299375 x^{2} + 0.1014875 x + 4.2069$"
      ],
      "text/plain": [
       "-0.00299375*x**2 + 0.1014875*x + 4.2069"
      ]
     },
     "execution_count": 35,
     "metadata": {},
     "output_type": "execute_result"
    }
   ],
   "source": [
    "polinomio_newton"
   ]
  },
  {
   "cell_type": "code",
   "execution_count": 36,
   "metadata": {},
   "outputs": [
    {
     "data": {
      "text/latex": [
       "$\\displaystyle 4.63949375$"
      ],
      "text/plain": [
       "4.63949375000000"
      ]
     },
     "execution_count": 36,
     "metadata": {},
     "output_type": "execute_result"
    }
   ],
   "source": [
    "polinomio_newton.subs(x, 5)"
   ]
  },
  {
   "cell_type": "code",
   "execution_count": 5,
   "metadata": {},
   "outputs": [
    {
     "data": {
      "text/latex": [
       "$\\displaystyle 0.31712 x - 2.85366$"
      ],
      "text/plain": [
       "0.31712*x - 2.85366"
      ]
     },
     "execution_count": 5,
     "metadata": {},
     "output_type": "execute_result"
    }
   ],
   "source": [
    "derivada_1"
   ]
  },
  {
   "cell_type": "code",
   "execution_count": 26,
   "metadata": {},
   "outputs": [
    {
     "data": {
      "text/latex": [
       "$\\displaystyle -2.2987$"
      ],
      "text/plain": [
       "-2.29870000000000"
      ]
     },
     "execution_count": 26,
     "metadata": {},
     "output_type": "execute_result"
    }
   ],
   "source": [
    "derivada_1.subs(x,1.75)"
   ]
  },
  {
   "cell_type": "code",
   "execution_count": 27,
   "metadata": {},
   "outputs": [
    {
     "data": {
      "text/latex": [
       "$\\displaystyle 0$"
      ],
      "text/plain": [
       "0"
      ]
     },
     "execution_count": 27,
     "metadata": {},
     "output_type": "execute_result"
    }
   ],
   "source": [
    "derivada_2.subs(x,1.75)"
   ]
  },
  {
   "cell_type": "code",
   "execution_count": null,
   "metadata": {},
   "outputs": [],
   "source": []
  },
  {
   "cell_type": "code",
   "execution_count": null,
   "metadata": {},
   "outputs": [],
   "source": []
  }
 ],
 "metadata": {
  "kernelspec": {
   "display_name": "Python 3",
   "language": "python",
   "name": "python3"
  },
  "language_info": {
   "codemirror_mode": {
    "name": "ipython",
    "version": 3
   },
   "file_extension": ".py",
   "mimetype": "text/x-python",
   "name": "python",
   "nbconvert_exporter": "python",
   "pygments_lexer": "ipython3",
   "version": "3.8.6"
  }
 },
 "nbformat": 4,
 "nbformat_minor": 4
}
