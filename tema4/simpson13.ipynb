{
 "cells": [
  {
   "cell_type": "code",
   "execution_count": 1,
   "metadata": {},
   "outputs": [],
   "source": [
    "import numpy as np\n",
    "\n",
    "def simpson13(f, x0, xn, n):\n",
    "\txData=np.linspace(x0, xn, num=n+1)\n",
    "\th=(xn-x0)/n\n",
    "\tyData=np.round(f(xData),5)\n",
    "\tif n%2!=0:\n",
    "\t\tprint('no se puede aplicar este metodo pues n no es par')\n",
    "\t\treturn \n",
    "\telse:\n",
    "\t\timprimir_datos(xData, yData)\n",
    "\t\tsuma_par=0\n",
    "\t\tsuma_impar=0\n",
    "\t\tfor i in range(1,n):\n",
    "\t\t\tif i%2==0:\n",
    "\t\t\t\tsuma_par=suma_par+yData[i]\n",
    "\t\t\telse:\n",
    "\t\t\t\tsuma_impar=suma_impar+yData[i]\t\t\t\t\n",
    "\t\treturn (h/3)*(yData[0]+yData[n]+4*suma_impar+2*suma_par)\n",
    "\n",
    "def imprimir_datos(xData, yData):\n",
    "\n",
    " \t\t\n",
    "\t\tprint('{}\t\t{}\t\t{}'.format('i', 'xi', 'yi'))\n",
    "\t\tfor i in range(len(xData)):\n",
    "\t\t\tprint('{}\t\t{}\t\t{}'.format(i, xData[i], yData[i]))"
   ]
  },
  {
   "cell_type": "code",
   "execution_count": 8,
   "metadata": {},
   "outputs": [],
   "source": [
    "def f(x): return np.log(x+9)+2"
   ]
  },
  {
   "cell_type": "code",
   "execution_count": 9,
   "metadata": {},
   "outputs": [
    {
     "name": "stdout",
     "output_type": "stream",
     "text": [
      "i\t\txi\t\tyi\n",
      "0\t\t0.6\t\t4.26176\n",
      "1\t\t0.8\t\t4.28238\n",
      "2\t\t1.0\t\t4.30259\n"
     ]
    },
    {
     "data": {
      "text/plain": [
       "1.7129246666666667"
      ]
     },
     "execution_count": 9,
     "metadata": {},
     "output_type": "execute_result"
    }
   ],
   "source": [
    "simpson13(f,0.6,1,2)"
   ]
  },
  {
   "cell_type": "code",
   "execution_count": null,
   "metadata": {},
   "outputs": [],
   "source": []
  }
 ],
 "metadata": {
  "kernelspec": {
   "display_name": "Python 3",
   "language": "python",
   "name": "python3"
  },
  "language_info": {
   "codemirror_mode": {
    "name": "ipython",
    "version": 3
   },
   "file_extension": ".py",
   "mimetype": "text/x-python",
   "name": "python",
   "nbconvert_exporter": "python",
   "pygments_lexer": "ipython3",
   "version": "3.8.6"
  }
 },
 "nbformat": 4,
 "nbformat_minor": 4
}
