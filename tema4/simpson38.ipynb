{
 "cells": [
  {
   "cell_type": "code",
   "execution_count": 6,
   "metadata": {},
   "outputs": [],
   "source": [
    "import numpy as np\n",
    "\n",
    "def simpson38(f, x0, xn, n):\n",
    "\txData=np.linspace(x0, xn, num=n+1)\n",
    "\th=(xn-x0)/n\n",
    "\tyData=np.round(f(xData),5)\n",
    "\tif n%3!=0:\n",
    "\t\tprint('no se puede aplicar este metodo pues n no es multiplo de 3')\n",
    "\t\treturn \n",
    "\telse:\n",
    "\t\timprimir_datos(xData, yData)\n",
    "\t\tsuma_mult3=0\n",
    "\t\tsuma_restantes=0\n",
    "\t\tfor i in range(1,n):\n",
    "\t\t\tif i%3==0:\n",
    "\t\t\t\tsuma_mult3=suma_mult3+yData[i]\n",
    "\t\t\telse:\n",
    "\t\t\t\tsuma_restantes=suma_restantes+yData[i]\n",
    "\t\treturn (3*h/8)*(yData[0]+yData[n]+2*suma_mult3+3*suma_restantes)\n",
    "\n",
    "\n",
    "def imprimir_datos(xData, yData):\n",
    "\n",
    "\t\tprint('{}\t\t{}\t\t{}'.format('i', 'xi', 'yi'))\n",
    "\t\tfor i in range(len(xData)):\n",
    "\t\t\tprint('{}\t\t{}\t\t{}'.format(i, xData[i], yData[i]))"
   ]
  },
  {
   "cell_type": "code",
   "execution_count": 10,
   "metadata": {},
   "outputs": [],
   "source": [
    "#def f(x): return (1/np.sqrt(np.pi*2))*np.exp(-0.5*x**2)\n",
    "def f(x): return np.log(x+9)+2\n"
   ]
  },
  {
   "cell_type": "code",
   "execution_count": 11,
   "metadata": {},
   "outputs": [
    {
     "name": "stdout",
     "output_type": "stream",
     "text": [
      "i\t\txi\t\tyi\n",
      "0\t\t0.0\t\t4.19722\n",
      "1\t\t0.19999999999999998\t\t4.2192\n",
      "2\t\t0.39999999999999997\t\t4.24071\n",
      "3\t\t0.6\t\t4.26176\n"
     ]
    },
    {
     "data": {
      "text/plain": [
       "2.5379032500000003"
      ]
     },
     "execution_count": 11,
     "metadata": {},
     "output_type": "execute_result"
    }
   ],
   "source": [
    "simpson38(f,0,0.6,3)"
   ]
  },
  {
   "cell_type": "code",
   "execution_count": null,
   "metadata": {},
   "outputs": [],
   "source": []
  }
 ],
 "metadata": {
  "kernelspec": {
   "display_name": "Python 3",
   "language": "python",
   "name": "python3"
  },
  "language_info": {
   "codemirror_mode": {
    "name": "ipython",
    "version": 3
   },
   "file_extension": ".py",
   "mimetype": "text/x-python",
   "name": "python",
   "nbconvert_exporter": "python",
   "pygments_lexer": "ipython3",
   "version": "3.8.6"
  }
 },
 "nbformat": 4,
 "nbformat_minor": 4
}
