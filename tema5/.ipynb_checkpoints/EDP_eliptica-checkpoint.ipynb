{
 "cells": [
  {
   "cell_type": "code",
   "execution_count": 130,
   "metadata": {},
   "outputs": [
    {
     "data": {
      "text/latex": [
       "$\\displaystyle \\left[\\begin{matrix}0 & 0 & 0 & 0\\\\0 & 0 & 0 & 0\\\\0 & 0 & 0 & 0\\\\0 & 0 & 0 & 0\\end{matrix}\\right]$"
      ],
      "text/plain": [
       "Matrix([\n",
       "[0, 0, 0, 0],\n",
       "[0, 0, 0, 0],\n",
       "[0, 0, 0, 0],\n",
       "[0, 0, 0, 0]])"
      ]
     },
     "execution_count": 130,
     "metadata": {},
     "output_type": "execute_result"
    }
   ],
   "source": [
    "import numpy as np\n",
    "import sympy as sp\n",
    "from sympy.plotting import plot\n",
    "from math import *\n",
    "\n",
    "a = 0\n",
    "b = 0.5\n",
    "\n",
    "c = 0\n",
    "d = 0.5\n",
    "\n",
    "h = 1/6\n",
    "k = 1/6\n",
    "\n",
    "n=round((b-a)/h)\n",
    "m=round((d-c)/h)\n",
    "\n",
    "x=np.linspace(a,b,n+1)\n",
    "y=np.linspace(c,d,m+1)\n",
    "\n",
    "y=y[::-1]\n",
    "A=sp.zeros( m+1, n+1)\n",
    "sp.Matrix(A)\n"
   ]
  },
  {
   "cell_type": "code",
   "execution_count": 131,
   "metadata": {
    "scrolled": true
   },
   "outputs": [
    {
     "data": {
      "text/latex": [
       "$\\displaystyle \\left[\\begin{matrix}0 & 33.3333333333333 & 66.6666666666667 & 100.0\\\\0 & u_{1} & u_{2} & 66.6666666666667\\\\0 & u_{3} & u_{4} & 33.3333333333333\\\\0 & 0 & 0 & 0.0\\end{matrix}\\right]$"
      ],
      "text/plain": [
       "Matrix([\n",
       "[0, 33.3333333333333, 66.6666666666667,            100.0],\n",
       "[0,              u_1,              u_2, 66.6666666666667],\n",
       "[0,              u_3,              u_4, 33.3333333333333],\n",
       "[0,                0,                0,              0.0]])"
      ]
     },
     "execution_count": 131,
     "metadata": {},
     "output_type": "execute_result"
    }
   ],
   "source": [
    "\n",
    "def f(x,y): return 4\n",
    "def arriba(x): return 200*x\n",
    "#(x-2)**2\n",
    "def abajo(x): return 0\n",
    "def izquierda(y): return 0\n",
    "def derecha(y): return 200*y\n",
    "\n",
    "\n",
    "\n",
    "\n",
    "\n",
    "for i in range(n+1):\n",
    "    A[0,i]=arriba(x[i])\n",
    "    A[m,i]=abajo(x[i])\n",
    "\n",
    "for j in range(m+1):\n",
    "    A[j,0]=izquierda(y[j])\n",
    "    A[j,n]=derecha(y[j])\n",
    "\n",
    "\n",
    "u=sp.symarray('u', (n-1)*(m-1)+1 )\n",
    "contador=1\n",
    "variables=[]\n",
    "for i in range(1,m):\n",
    "    for j in range(1,n):\n",
    "        A[i,j]=u[contador]\n",
    "        variables.append(A[i,j])\n",
    "        contador+=1\n",
    "\n",
    "A"
   ]
  },
  {
   "cell_type": "code",
   "execution_count": 132,
   "metadata": {},
   "outputs": [
    {
     "data": {
      "text/plain": [
       "[4*u_1 - u_2 - u_3 - 33.3333333333333,\n",
       " -u_1 + 4*u_2 - u_4 - 133.333333333333,\n",
       " -u_1 + 4*u_3 - u_4,\n",
       " -u_2 - u_3 + 4*u_4 - 33.3333333333333]"
      ]
     },
     "execution_count": 132,
     "metadata": {},
     "output_type": "execute_result"
    }
   ],
   "source": [
    "ecuaciones=[]\n",
    "for i in range(1,m):\n",
    "    for j in range(1,n):\n",
    "        ecuaciones.append(\n",
    "            4*A[i,j]-A[i-1,j]-A[i+1,j]-A[i,j-1]-A[i,j+1]\n",
    "        )\n",
    "ecuaciones"
   ]
  },
  {
   "cell_type": "code",
   "execution_count": 133,
   "metadata": {},
   "outputs": [
    {
     "data": {
      "text/plain": [
       "{u_1: 22.2222222222222,\n",
       " u_2: 44.4444444444444,\n",
       " u_3: 11.1111111111111,\n",
       " u_4: 22.2222222222222}"
      ]
     },
     "execution_count": 133,
     "metadata": {},
     "output_type": "execute_result"
    }
   ],
   "source": [
    "valores=sp.solve(\n",
    "    ecuaciones, \n",
    "    variables\n",
    ")\n",
    "valores"
   ]
  },
  {
   "cell_type": "code",
   "execution_count": 59,
   "metadata": {},
   "outputs": [
    {
     "data": {
      "text/plain": [
       "array([22.2222222222222, 44.4444444444444, 11.1111111111111,\n",
       "       22.2222222222222], dtype=object)"
      ]
     },
     "execution_count": 59,
     "metadata": {},
     "output_type": "execute_result"
    }
   ],
   "source": [
    "lista=[]\n",
    "for valor in valores:\n",
    "   lista.append(valores[valor])\n",
    "lista=np.array(lista)\n",
    "lista"
   ]
  },
  {
   "cell_type": "code",
   "execution_count": 74,
   "metadata": {},
   "outputs": [
    {
     "data": {
      "text/plain": [
       "array([22.22222222, 44.44444444, 11.11111111, 22.22222222])"
      ]
     },
     "execution_count": 74,
     "metadata": {},
     "output_type": "execute_result"
    }
   ],
   "source": [
    "def analitica(x,y): return 400*x*y\n",
    "\n",
    "sol_real=[]\n",
    "\n",
    "for i in range(1,n):\n",
    "    for j in range(1,m):\n",
    "        sol_real.append( analitica(x[n-i],y[j]) )\n",
    "sol_real=np.array(sol_real)\n",
    "sol_real"
   ]
  },
  {
   "cell_type": "code",
   "execution_count": 128,
   "metadata": {},
   "outputs": [
    {
     "data": {
      "text/plain": [
       "[0.0, 0.0, 0.0, 0.0]"
      ]
     },
     "execution_count": 128,
     "metadata": {},
     "output_type": "execute_result"
    }
   ],
   "source": [
    "errores=np.abs(sol_real-lista)\n",
    "[round(x,10) for x in errores]"
   ]
  }
 ],
 "metadata": {
  "kernelspec": {
   "display_name": "Python 3",
   "language": "python",
   "name": "python3"
  },
  "language_info": {
   "codemirror_mode": {
    "name": "ipython",
    "version": 3
   },
   "file_extension": ".py",
   "mimetype": "text/x-python",
   "name": "python",
   "nbconvert_exporter": "python",
   "pygments_lexer": "ipython3",
   "version": "3.8.7"
  }
 },
 "nbformat": 4,
 "nbformat_minor": 4
}
