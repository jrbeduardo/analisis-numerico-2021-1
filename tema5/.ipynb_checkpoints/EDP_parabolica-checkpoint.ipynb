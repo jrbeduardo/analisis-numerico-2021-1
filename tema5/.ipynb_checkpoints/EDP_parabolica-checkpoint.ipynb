{
 "cells": [
  {
   "cell_type": "code",
   "execution_count": 105,
   "metadata": {},
   "outputs": [
    {
     "data": {
      "text/latex": [
       "$\\displaystyle \\left[\\begin{matrix}0 & 0 & 0 & 0 & 0\\\\0 & 0 & 0 & 0 & 0\\\\0 & 0 & 0 & 0 & 0\\end{matrix}\\right]$"
      ],
      "text/plain": [
       "Matrix([\n",
       "[0, 0, 0, 0, 0],\n",
       "[0, 0, 0, 0, 0],\n",
       "[0, 0, 0, 0, 0]])"
      ]
     },
     "execution_count": 105,
     "metadata": {},
     "output_type": "execute_result"
    }
   ],
   "source": [
    "import numpy as np\n",
    "import sympy as sp\n",
    "\n",
    "a = 0\n",
    "b = 2\n",
    "\n",
    "c = 0\n",
    "d = 0.1\n",
    "\n",
    "alpha2 = 1 \n",
    "n = 4\n",
    "k = 0.05\n",
    "\n",
    "\n",
    "h = (b-a)/n\n",
    "\n",
    "m = round((d-c)/k)\n",
    "\n",
    "x=np.linspace(a,b,n+1)\n",
    "t=np.linspace(c,d,m+1)\n",
    "\n",
    "t=t[::-1]\n",
    "A=sp.zeros( m+1, n+1)\n",
    "\n",
    "A"
   ]
  },
  {
   "cell_type": "code",
   "execution_count": 135,
   "metadata": {},
   "outputs": [
    {
     "data": {
      "text/latex": [
       "$\\displaystyle \\left[\\begin{matrix}0.0 & 0.7071 & 1.0 & 0.7071 & 0\\\\0 & u_{1} & u_{2} & u_{3} & 0\\\\0 & u_{4} & u_{5} & u_{6} & 0\\end{matrix}\\right]$"
      ],
      "text/plain": [
       "Matrix([\n",
       "[0.0, 0.7071, 1.0, 0.7071, 0],\n",
       "[  0,    u_1, u_2,    u_3, 0],\n",
       "[  0,    u_4, u_5,    u_6, 0]])"
      ]
     },
     "execution_count": 135,
     "metadata": {},
     "output_type": "execute_result"
    }
   ],
   "source": [
    "def arriba(t): return 0\n",
    "def abajo(t): return 0\n",
    "def ci(x): return np.round(np.sin((np.pi/2)*x),4)\n",
    "\n",
    "for i in range(m+1):\n",
    "    A[i,0]=arriba(x[i])\n",
    "    A[i,n]=abajo(x[i])\n",
    "\n",
    "for j in range(n):\n",
    "    A[0,j]=ci(x[j])\n",
    "\n",
    "\n",
    "u=sp.symarray('u', (n-1)*(m)+1 )\n",
    "contador=1\n",
    "variables=[]\n",
    "for i in range(1,m+1):\n",
    "    for j in range(1,n):\n",
    "        A[i,j]=u[contador]\n",
    "        variables.append(A[i,j])\n",
    "        contador+=1\n",
    "    \n",
    "A"
   ]
  },
  {
   "cell_type": "code",
   "execution_count": 137,
   "metadata": {},
   "outputs": [
    {
     "data": {
      "text/latex": [
       "$\\displaystyle \\left[\\begin{matrix}0.0 & 0.7071 & 1.0 & 0.7071 & 0\\\\0 & 0.6243 & 0.8828 & 0.6243 & 0\\\\0 & 0.5511 & 0.7794 & 0.5511 & 0\\end{matrix}\\right]$"
      ],
      "text/plain": [
       "Matrix([\n",
       "[0.0, 0.7071,    1.0, 0.7071, 0],\n",
       "[  0, 0.6243, 0.8828, 0.6243, 0],\n",
       "[  0, 0.5511, 0.7794, 0.5511, 0]])"
      ]
     },
     "execution_count": 137,
     "metadata": {},
     "output_type": "execute_result"
    }
   ],
   "source": [
    "for i in range(1,m+1):\n",
    "    for j in range(1,n):\n",
    "            A[i,j]=round(0.2*A[i-1,j-1]+ 0.6*A[i-1,j]+ 0.2*A[i-1,j+1],4)\n",
    "        \n",
    "A"
   ]
  },
  {
   "cell_type": "code",
   "execution_count": 144,
   "metadata": {},
   "outputs": [],
   "source": [
    "def analitica(x,t): return np.round(np.exp((-(np.pi**2)/4)*t)*np.sin((np.pi/2)*x),4)\n",
    "\n",
    "real=analitica(x,0.1)\n",
    "aproximacion=np.array([i for i in A[2,:]])\n",
    "error= np.abs(real-aproximacion)\n"
   ]
  },
  {
   "cell_type": "code",
   "execution_count": 145,
   "metadata": {},
   "outputs": [
    {
     "name": "stdout",
     "output_type": "stream",
     "text": [
      "0.0  0 0.0 0\n",
      "0.5  0.5511 0.5525 0.00139831542968749\n",
      "1.0  0.7794 0.7813 0.00189631347656249\n",
      "1.5  0.5511 0.5525 0.00139831542968749\n",
      "2.0  0 0.0 0\n"
     ]
    }
   ],
   "source": [
    "for i in range(len(x)): \n",
    "    print(f\"{x[i]}  {aproximacion[i]} {real[i]} {error[i]}\")"
   ]
  },
  {
   "cell_type": "code",
   "execution_count": null,
   "metadata": {},
   "outputs": [],
   "source": []
  }
 ],
 "metadata": {
  "kernelspec": {
   "display_name": "Python 3",
   "language": "python",
   "name": "python3"
  },
  "language_info": {
   "codemirror_mode": {
    "name": "ipython",
    "version": 3
   },
   "file_extension": ".py",
   "mimetype": "text/x-python",
   "name": "python",
   "nbconvert_exporter": "python",
   "pygments_lexer": "ipython3",
   "version": "3.8.7"
  }
 },
 "nbformat": 4,
 "nbformat_minor": 4
}
