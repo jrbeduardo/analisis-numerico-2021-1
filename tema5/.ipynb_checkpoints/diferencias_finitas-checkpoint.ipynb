{
 "cells": [
  {
   "cell_type": "code",
   "execution_count": 46,
   "metadata": {},
   "outputs": [],
   "source": [
    "import numpy as np\n",
    "import sympy as sp\n",
    "from sympy.plotting import plot\n",
    "from math import *\n",
    "\n",
    "def a2(x): return 1\n",
    "def a1(x): return -2\n",
    "def a0(x): return 5\n",
    "def g(x): return 0\n",
    "n=6\n",
    "a=0\n",
    "b=1\n",
    "h=0.2\n",
    "y0=0\n",
    "yn_1=2\n",
    "x=np.arange(a,b+h,h)\n",
    "y=sp.symarray('y', n )\n",
    "\n",
    "y[0]=y[0].subs(y[0], y0)\n",
    "\n",
    "y[n-1]=y[n-1].subs(y[n-1], yn_1)\n"
   ]
  },
  {
   "cell_type": "code",
   "execution_count": 47,
   "metadata": {},
   "outputs": [
    {
     "data": {
      "text/plain": [
       "[-1.0*y_1 + 2.0*y_2 + 4, -1.0*y_2 - 3.0]"
      ]
     },
     "execution_count": 47,
     "metadata": {},
     "output_type": "execute_result"
    }
   ],
   "source": [
    "[(1/(h**2))*(y[i+1]-2*y[i]+y[i-1])*a2(x[i])+(1/(2*h))*(y[i+1]-y[i-1])*a1(x[i])+y[i]*a0(x[i])+g(x[i]) for i in range(1, n-1)]"
   ]
  },
  {
   "cell_type": "code",
   "execution_count": 49,
   "metadata": {},
   "outputs": [
    {
     "data": {
      "text/plain": [
       "array([3, 4, 5, 6])"
      ]
     },
     "execution_count": 49,
     "metadata": {},
     "output_type": "execute_result"
    }
   ],
   "source": [
    "x"
   ]
  },
  {
   "cell_type": "code",
   "execution_count": 48,
   "metadata": {},
   "outputs": [
    {
     "data": {
      "text/plain": [
       "{y_1: -2.00000000000000, y_2: -3.00000000000000}"
      ]
     },
     "execution_count": 48,
     "metadata": {},
     "output_type": "execute_result"
    }
   ],
   "source": [
    "sp.solve(\n",
    "    [(1/(h**2))*(y[i+1]-2*y[i]+y[i-1])*a2(x[i])+(1/(2*h))*(y[i+1]-y[i-1])*a1(x[i])+y[i]*a0(x[i])+x[i] for i in range(1, n-1)], \n",
    "    [y[i] for i in range(1, n-1)])\n"
   ]
  },
  {
   "cell_type": "code",
   "execution_count": null,
   "metadata": {},
   "outputs": [],
   "source": []
  }
 ],
 "metadata": {
  "kernelspec": {
   "display_name": "Python 3",
   "language": "python",
   "name": "python3"
  },
  "language_info": {
   "codemirror_mode": {
    "name": "ipython",
    "version": 3
   },
   "file_extension": ".py",
   "mimetype": "text/x-python",
   "name": "python",
   "nbconvert_exporter": "python",
   "pygments_lexer": "ipython3",
   "version": "3.8.7"
  }
 },
 "nbformat": 4,
 "nbformat_minor": 4
}
