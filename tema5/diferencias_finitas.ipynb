{
 "cells": [
  {
   "cell_type": "code",
   "execution_count": 107,
   "metadata": {},
   "outputs": [],
   "source": [
    "import numpy as np\n",
    "import sympy as sp\n",
    "from sympy.plotting import plot\n",
    "from math import *\n",
    "\n",
    "def f(x): return 2-x+np.exp(3-x)*(x-6)/12\n",
    "def a2(x): return 1\n",
    "def a1(x): return 2\n",
    "def a0(x): return 1\n",
    "def g(x): return -x\n",
    "n=6\n",
    "a=3\n",
    "b=6\n",
    "h=0.6\n",
    "y0=1.25\n",
    "yn_1=-4\n",
    "x=np.arange(a,b+h,h)\n",
    "y=sp.symarray('y', n )\n",
    "\n",
    "y[0]=y[0].subs(y[0], y0)\n",
    "\n",
    "y[n-1]=y[n-1].subs(y[n-1], yn_1)\n"
   ]
  },
  {
   "cell_type": "code",
   "execution_count": 108,
   "metadata": {},
   "outputs": [
    {
     "data": {
      "text/plain": [
       "[-4.55555555555556*y_1 + 4.44444444444444*y_2 + 2.21111111111111,\n",
       " 1.11111111111111*y_1 - 4.55555555555556*y_2 + 4.44444444444444*y_3 + 4.2,\n",
       " 1.11111111111111*y_2 - 4.55555555555556*y_3 + 4.44444444444444*y_4 + 4.8,\n",
       " 1.11111111111111*y_3 - 4.55555555555556*y_4 - 12.3777777777778]"
      ]
     },
     "execution_count": 108,
     "metadata": {},
     "output_type": "execute_result"
    }
   ],
   "source": [
    "[(1/(h**2))*(y[i+1]-2*y[i]+y[i-1])*a2(x[i])+(1/(2*h))*(y[i+1]-y[i-1])*a1(x[i])+y[i]*a0(x[i])-g(x[i]) for i in range(1, n-1)]"
   ]
  },
  {
   "cell_type": "code",
   "execution_count": 109,
   "metadata": {},
   "outputs": [
    {
     "data": {
      "text/plain": [
       "array([-1.69323367345991, -2.23306451529640, -2.81058270981384,\n",
       "       -3.40258114873508], dtype=object)"
      ]
     },
     "execution_count": 109,
     "metadata": {},
     "output_type": "execute_result"
    }
   ],
   "source": [
    "valores=sp.solve(\n",
    "    [(1/(h**2))*(y[i+1]-2*y[i]+y[i-1])*a2(x[i])+(1/(2*h))*(y[i+1]-y[i-1])*a1(x[i])+y[i]*a0(x[i])-g(x[i]) for i in range(1, n-1)], \n",
    "    [y[i] for i in range(1, n-1)])\n",
    "lista=[]\n",
    "for valor in valores:\n",
    "   lista.append(valores[valor])\n",
    "lista=np.array(lista)\n",
    "lista"
   ]
  },
  {
   "cell_type": "code",
   "execution_count": 110,
   "metadata": {},
   "outputs": [
    {
     "data": {
      "text/plain": [
       "array([0.00966722303782758, 0.00539583515582815, 0.00211152703613217,\n",
       "       0.000574160175761315], dtype=object)"
      ]
     },
     "execution_count": 110,
     "metadata": {},
     "output_type": "execute_result"
    }
   ],
   "source": [
    "errores=np.abs((f(x[1:len(x)-1])-lista)/f(x[1:len(x)-1]))\n",
    "errores"
   ]
  },
  {
   "cell_type": "code",
   "execution_count": null,
   "metadata": {},
   "outputs": [],
   "source": []
  }
 ],
 "metadata": {
  "kernelspec": {
   "display_name": "Python 3",
   "language": "python",
   "name": "python3"
  },
  "language_info": {
   "codemirror_mode": {
    "name": "ipython",
    "version": 3
   },
   "file_extension": ".py",
   "mimetype": "text/x-python",
   "name": "python",
   "nbconvert_exporter": "python",
   "pygments_lexer": "ipython3",
   "version": "3.8.7"
  }
 },
 "nbformat": 4,
 "nbformat_minor": 4
}
