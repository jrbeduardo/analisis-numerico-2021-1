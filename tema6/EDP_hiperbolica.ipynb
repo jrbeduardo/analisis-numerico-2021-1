{
 "cells": [
  {
   "cell_type": "code",
   "execution_count": 85,
   "metadata": {},
   "outputs": [
    {
     "data": {
      "text/latex": [
       "$\\displaystyle \\left[\\begin{matrix}0 & 0 & 0 & 0 & 0\\\\0 & 0 & 0 & 0 & 0\\\\0 & 0 & 0 & 0 & 0\\\\0 & 0 & 0 & 0 & 0\\end{matrix}\\right]$"
      ],
      "text/plain": [
       "Matrix([\n",
       "[0, 0, 0, 0, 0],\n",
       "[0, 0, 0, 0, 0],\n",
       "[0, 0, 0, 0, 0],\n",
       "[0, 0, 0, 0, 0]])"
      ]
     },
     "execution_count": 85,
     "metadata": {},
     "output_type": "execute_result"
    }
   ],
   "source": [
    "import numpy as np\n",
    "import sympy as sp\n",
    "\n",
    "a = 0\n",
    "b = 1\n",
    "\n",
    "c = 0\n",
    "d = 0.15\n",
    "\n",
    "alpha2 = 1 \n",
    "h = 0.25\n",
    "k = 0.05\n",
    "\n",
    "n=round((b-a)/h)\n",
    "m=round((d-c)/k)\n",
    "\n",
    "x=np.linspace(a,b,n+1)\n",
    "t=np.linspace(c,d,m+1)\n",
    "\n",
    "#t=t[::-1]\n",
    "A=sp.zeros( m+1, n+1)\n",
    "\n",
    "A"
   ]
  },
  {
   "cell_type": "code",
   "execution_count": 86,
   "metadata": {},
   "outputs": [
    {
     "data": {
      "text/latex": [
       "$\\displaystyle \\left[\\begin{matrix}0.0 & 0.7071 & 1.0 & 0.7071 & 0\\\\0.0 & 0.7071 & 1.0 & 0.7071 & 0\\\\0 & u_{1} & u_{2} & u_{3} & 0\\\\0 & u_{4} & u_{5} & u_{6} & 0\\end{matrix}\\right]$"
      ],
      "text/plain": [
       "Matrix([\n",
       "[0.0, 0.7071, 1.0, 0.7071, 0],\n",
       "[0.0, 0.7071, 1.0, 0.7071, 0],\n",
       "[  0,    u_1, u_2,    u_3, 0],\n",
       "[  0,    u_4, u_5,    u_6, 0]])"
      ]
     },
     "execution_count": 86,
     "metadata": {},
     "output_type": "execute_result"
    }
   ],
   "source": [
    "def arriba(t): return 0\n",
    "def abajo(t): return 0\n",
    "def f(x): return np.round(np.sin((np.pi)*x),4)\n",
    "def g(x): return 0\n",
    "\n",
    "for i in range(m+1):\n",
    "    A[i,0] = arriba(x[i])\n",
    "    A[i,n] = abajo(x[i])\n",
    "\n",
    "for j in range(n):\n",
    "    A[0,j] = f(x[j])\n",
    "    A[1,j] = f(x[j])+k*g(x[j])\n",
    "\n",
    "\n",
    "u=sp.symarray('u', (n-1)*(m)+1 )\n",
    "contador=1\n",
    "variables=[]\n",
    "for i in range(2,m+1):\n",
    "    for j in range(1,n):\n",
    "        A[i,j]=u[contador]\n",
    "        variables.append(A[i,j])\n",
    "        contador+=1\n",
    "    \n",
    "A"
   ]
  },
  {
   "cell_type": "code",
   "execution_count": 87,
   "metadata": {},
   "outputs": [
    {
     "data": {
      "text/latex": [
       "$\\displaystyle \\left[\\begin{matrix}0.0 & 0.7071 & 1.0 & 0.7071 & 0\\\\0.0 & 0.7071 & 1.0 & 0.7071 & 0\\\\0 & 0.6905 & 0.9766 & 0.6905 & 0\\\\0 & 0.6577 & 0.9303 & 0.6577 & 0\\end{matrix}\\right]$"
      ],
      "text/plain": [
       "Matrix([\n",
       "[0.0, 0.7071,    1.0, 0.7071, 0],\n",
       "[0.0, 0.7071,    1.0, 0.7071, 0],\n",
       "[  0, 0.6905, 0.9766, 0.6905, 0],\n",
       "[  0, 0.6577, 0.9303, 0.6577, 0]])"
      ]
     },
     "execution_count": 87,
     "metadata": {},
     "output_type": "execute_result"
    }
   ],
   "source": [
    "for i in range(2,m+1):\n",
    "    for j in range(1,n):\n",
    "            A[i,j]=round(0.04*A[i-1,j-1]+ 1.92*A[i-1,j]+ 0.04*A[i-1,j+1]-A[i-2,j],4)\n",
    "        \n",
    "A"
   ]
  },
  {
   "cell_type": "code",
   "execution_count": 88,
   "metadata": {},
   "outputs": [
    {
     "data": {
      "text/plain": [
       "array([0.   , 0.63 , 0.891, 0.63 , 0.   ])"
      ]
     },
     "execution_count": 88,
     "metadata": {},
     "output_type": "execute_result"
    }
   ],
   "source": [
    "def analitica(x,t): return np.round(np.sin(np.pi*x)*np.cos(np.pi*t), 4)\n",
    "\n",
    "real=analitica(x,0.15)\n",
    "aproximacion=np.array([i for i in A[m,:]])\n",
    "error= np.abs(real-aproximacion)\n",
    "real"
   ]
  },
  {
   "cell_type": "code",
   "execution_count": 89,
   "metadata": {},
   "outputs": [
    {
     "name": "stdout",
     "output_type": "stream",
     "text": [
      "0.0            0.0            0          0\n",
      "0.25            0.63            0.6577          0.0276995849609375\n",
      "0.5            0.891            0.9303          0.0392978515625000\n",
      "0.75            0.63            0.6577          0.0276995849609375\n",
      "1.0            0.0            0          0\n"
     ]
    }
   ],
   "source": [
    "for i in range(len(x)): \n",
    "    print(f\"{x[i]}            {real[i]}            {aproximacion[i]}          {error[i]}\")"
   ]
  },
  {
   "cell_type": "code",
   "execution_count": null,
   "metadata": {},
   "outputs": [],
   "source": []
  }
 ],
 "metadata": {
  "kernelspec": {
   "display_name": "Python 3",
   "language": "python",
   "name": "python3"
  },
  "language_info": {
   "codemirror_mode": {
    "name": "ipython",
    "version": 3
   },
   "file_extension": ".py",
   "mimetype": "text/x-python",
   "name": "python",
   "nbconvert_exporter": "python",
   "pygments_lexer": "ipython3",
   "version": "3.8.7"
  }
 },
 "nbformat": 4,
 "nbformat_minor": 4
}
